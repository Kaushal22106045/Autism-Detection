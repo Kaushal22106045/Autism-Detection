{
 "cells": [
  {
   "cell_type": "code",
   "execution_count": 3,
   "id": "239ec923-e0c0-462c-abc5-305aee980abb",
   "metadata": {},
   "outputs": [],
   "source": [
    "from dataParser import data_parsing \n",
    "import cupy \n",
    "import cudf\n",
    "import nibabel\n",
    "import nilearn"
   ]
  },
  {
   "cell_type": "code",
   "execution_count": null,
   "id": "d78a685a-01fe-4bc6-ba23-af4d9a423382",
   "metadata": {},
   "outputs": [],
   "source": [
    "root = r\"/root/miniconda3/Minor Project/dataset/\"\n",
    "internal_folder = r'session_1/anat_1'"
   ]
  },
  {
   "cell_type": "code",
   "execution_count": 4,
   "id": "f594da0d-426e-40ea-a6a8-d396c51e4379",
   "metadata": {},
   "outputs": [
    {
     "ename": "SyntaxError",
     "evalue": "incomplete input (748379037.py, line 1)",
     "output_type": "error",
     "traceback": [
      "\u001b[0;36m  Cell \u001b[0;32mIn[4], line 1\u001b[0;36m\u001b[0m\n\u001b[0;31m    def dataExtraction():\u001b[0m\n\u001b[0m                         ^\u001b[0m\n\u001b[0;31mSyntaxError\u001b[0m\u001b[0;31m:\u001b[0m incomplete input\n"
     ]
    }
   ],
   "source": [
    "input_arr = []\n",
    "@data_parsing\n",
    "def dataExtraction(direc):\n",
    "    file = os.path.join(direc, '/rest.nii')\n",
    "    \n",
    "    nii_file = nib.load(file)\n",
    "    data = nii_file.get_fdata()\n",
    "    \n",
    "    data_flat = data.reshape(X*Y*Z, T)\n",
    "    input_arr.append(data_flat)\n",
    "\n",
    "input_arr = cupy.array(input_arr)\n",
    "\n",
    "        "
   ]
  },
  {
   "cell_type": "code",
   "execution_count": null,
   "id": "dc668b5a-1eef-4d24-87b9-215d545be4d4",
   "metadata": {},
   "outputs": [],
   "source": []
  }
 ],
 "metadata": {
  "kernelspec": {
   "display_name": "Python 3 (ipykernel)",
   "language": "python",
   "name": "python3"
  },
  "language_info": {
   "codemirror_mode": {
    "name": "ipython",
    "version": 3
   },
   "file_extension": ".py",
   "mimetype": "text/x-python",
   "name": "python",
   "nbconvert_exporter": "python",
   "pygments_lexer": "ipython3",
   "version": "3.11.10"
  }
 },
 "nbformat": 4,
 "nbformat_minor": 5
}
